{
 "cells": [
  {
   "cell_type": "code",
   "execution_count": null,
   "metadata": {},
   "outputs": [],
   "source": []
  },
  {
   "cell_type": "code",
   "execution_count": 1,
   "metadata": {},
   "outputs": [],
   "source": [
    "import numpy as np"
   ]
  },
  {
   "cell_type": "code",
   "execution_count": 16,
   "metadata": {},
   "outputs": [],
   "source": [
    "\n",
    "\n",
    "#standard '802.11a'                 \n",
    "#frame_aggregation\n",
    "N1 = np.arange(5.,55.,5)\n",
    "                           \n",
    "#L_data = np.arange(3., 8., 1.)          \n",
    "L_data = np.arange(100, 1500, 100)\n",
    "\n",
    "Max_frames = 64.\n",
    "Max_length = 64e3         \n",
    "Max_time = 5458.\n",
    "\n",
    "\n",
    "W = 15.\n",
    "m = 6.\n"
   ]
  },
  {
   "cell_type": "code",
   "execution_count": 17,
   "metadata": {},
   "outputs": [
    {
     "data": {
      "text/plain": [
       "array([ 100,  200,  300,  400,  500,  600,  700,  800,  900, 1000, 1100,\n",
       "       1200, 1300, 1400])"
      ]
     },
     "execution_count": 17,
     "metadata": {},
     "output_type": "execute_result"
    }
   ],
   "source": [
    "L_data"
   ]
  },
  {
   "cell_type": "code",
   "execution_count": 39,
   "metadata": {},
   "outputs": [],
   "source": [
    "N_DBPS = [26., 78]\n",
    "DIFS = 34.       \n",
    "SIFS = 16."
   ]
  },
  {
   "cell_type": "code",
   "execution_count": 40,
   "metadata": {},
   "outputs": [],
   "source": [
    "sigma = 9.                          \n",
    "delta = 1. \n",
    "T_sym = 4."
   ]
  },
  {
   "cell_type": "code",
   "execution_count": 41,
   "metadata": {},
   "outputs": [],
   "source": [
    "L_header = 36.\n",
    "L_ACK = 14.\n",
    "L_delimiter = 4.\n",
    "L_blockACK = 32."
   ]
  },
  {
   "cell_type": "code",
   "execution_count": 42,
   "metadata": {},
   "outputs": [],
   "source": [
    "S = np.zeros([len(N_DBPS), len(N1), len(L_data)])"
   ]
  },
  {
   "cell_type": "code",
   "execution_count": 43,
   "metadata": {},
   "outputs": [],
   "source": [
    "import math"
   ]
  },
  {
   "cell_type": "code",
   "execution_count": 44,
   "metadata": {},
   "outputs": [],
   "source": [
    "for i in range(0, len(N1)):\n",
    "    if (N1[i] == 1):\n",
    "        p = 0.\n",
    "        tau = 2./(W + 1)\n",
    "    else:\n",
    "        inc = 0.000001\n",
    "        error_MAX = 0.000005\n",
    "        p = 0.\n",
    "        tau1 = 0.\n",
    "        tau2 = tau1 + 2.*error_MAX\n",
    "\n",
    "        while (math.fabs(tau1 - tau2) > error_MAX):\n",
    "            p = p + inc\n",
    "            tau1 = 2.*(1.-2.*p)/((1.-2.*p)*(W + 1.) + p*W*(1.-(2.*p)**m))\n",
    "            tau2 = 1. - (1.-p)**(1./(N1[i]-1))\n",
    "        tau = (tau1 + tau2)/2. \n",
    "\n",
    "    P_tr = 1. - (1. - tau)**(N1[i])\n",
    "    \n",
    "    P_s = N1[i]*tau*(1.- tau)**(N1[i]-1)\n",
    "            \n",
    "    P_c = P_tr - P_s\n",
    "    \n",
    "    P_e = 1. - P_tr\n",
    "    \n",
    "    for j in range(0, len(N_DBPS)):\n",
    "        for k in range(0, len(L_data)):\n",
    "            K = Max_frames\n",
    "            valid_K = False\n",
    "            \n",
    "            while(K > 0 and valid_K == False):\n",
    "                agg_frame = (L_header + L_data[k])*8.*K + (K - 1.)*L_delimiter*8.\n",
    "                if(agg_frame <= Max_length*8.):\n",
    "                    N_sym_data = (22. + agg_frame)/N_DBPS[j]\n",
    "                    N_ACK = (22. + (L_ACK*8.))/N_DBPS[j]\n",
    "                    T_data = 40. + 4.*math.ceil(T_sym*N_sym_data/4.) \n",
    "                    T_ACK = 40. + 4.*math.ceil(T_sym*N_ACK/4.)\n",
    "                        \n",
    "                    if (T_data <= Max_time):\n",
    "                        valid_K = True\n",
    "                K = K - 1.\n",
    "            K = K + 1.\n",
    "             \n",
    "            \n",
    "            T_s = DIFS + T_data + 2.*delta + SIFS + T_ACK\n",
    "\n",
    "            T_c = DIFS + T_data + delta\n",
    "\n",
    "            E_s = P_e*sigma + P_s*T_s + P_c*T_c\n",
    "\n",
    "            S[j][i][k] = P_s*L_data[k]*K*8./E_s\n"
   ]
  },
  {
   "cell_type": "code",
   "execution_count": 45,
   "metadata": {},
   "outputs": [],
   "source": [
    "import matplotlib.pyplot as plt"
   ]
  },
  {
   "cell_type": "code",
   "execution_count": 47,
   "metadata": {},
   "outputs": [
    {
     "data": {
      "image/png": "[encoded data removed]",
      "text/plain": [
       "<Figure size 432x288 with 1 Axes>"
      ]
     },
     "metadata": {
      "needs_background": "light"
     },
     "output_type": "display_data"
    }
   ],
   "source": [
    "plt.scatter(N1, S[0,:,-1], label = '6.5Mb/s')\n",
    "plt.xlabel('Number of users')\n",
    "plt.ylabel('Throughput (Mbps)')\n",
    "plt.legend()\n",
    "plt.title('Throughput vs User load')\n",
    "plt.grid()"
   ]
  },
  {
   "cell_type": "code",
   "execution_count": 26,
   "metadata": {},
   "outputs": [],
   "source": [
    "from scipy.optimize import root\n",
    "import numpy as np\n",
    "from matplotlib import pyplot as plt\n",
    "%matplotlib inline"
   ]
  },
  {
   "cell_type": "code",
   "execution_count": 27,
   "metadata": {},
   "outputs": [],
   "source": [
    "def durations(sigma, SIFS, DIFS, data, ack):\n",
    "    T_id = sigma\n",
    "    T_c = data + DIFS + sigma\n",
    "    T_s = data + SIFS + sigma + ack + DIFS + sigma\n",
    "    return T_id, T_c, T_s"
   ]
  },
  {
   "cell_type": "code",
   "execution_count": 28,
   "metadata": {},
   "outputs": [],
   "source": [
    "def eq(CW_min, T_id, T_c, T_s, m, N, pi, p):\n",
    "    eq7 = pi - 2 / (1 + CW_min + p*CW_min * sum(map(lambda k: (2*p)**k, range(0, m))))\n",
    "    eq1 = p - 1 + (1-pi)**(N-1)\n",
    "    return eq7, eq1"
   ]
  },
  {
   "cell_type": "code",
   "execution_count": 51,
   "metadata": {},
   "outputs": [
    {
     "data": {
      "image/png": "[encoded data removed]",
      "text/plain": [
       "<Figure size 432x288 with 1 Axes>"
      ]
     },
     "metadata": {
      "needs_background": "light"
     },
     "output_type": "display_data"
    }
   ],
   "source": [
    "DIFS=34; SIFS=16; slot=9\n",
    "data=1430; ack=60; l=1200 #* 10**6\n",
    "CW_min=15\n",
    "T_id, T_c, T_s = durations(slot, SIFS, DIFS, data, ack)\n",
    "for m in range(3, 8):\n",
    "    N = range(5, 55, 5)\n",
    "    throughput = []\n",
    "    for n in N:\n",
    "        pi, p = root(lambda z: eq(CW_min, T_id, T_c, T_s, m, n, pi=z[0], p=z[1]), [0.9, 0.1]).x\n",
    "        p_tr = 1 - (1-pi)**n\n",
    "        p_s = n * pi * (1-pi)**(n-1) / (1 - (1-pi)**n)\n",
    "        throughput.append(p_s * p_tr * l / (\n",
    "        p_s * p_tr * T_s + p_tr*(1 - p_s )*T_c + (1 - p_tr )*T_id) * 8) #because we want bps)\n",
    "    plt.plot(N, throughput, label=\"m={}\".format(m))\n",
    "plt.scatter(N1, S[0,:,-1], label = 'test')\n",
    "plt.xlabel('Number of users')\n",
    "plt.ylabel('Throughput (Mbps)')\n",
    "plt.legend()\n",
    "plt.title('Throughput vs User load')\n",
    "plt.grid()\n",
    "plt.show()"
   ]
  },
  {
   "cell_type": "code",
   "execution_count": null,
   "metadata": {},
   "outputs": [],
   "source": []
  },
  {
   "cell_type": "code",
   "execution_count": null,
   "metadata": {},
   "outputs": [],
   "source": []
  }
 ],
 "metadata": {
  "kernelspec": {
   "display_name": "Python 3",
   "language": "python",
   "name": "python3"
  },
  "language_info": {
   "codemirror_mode": {
    "name": "ipython",
    "version": 3
   },
   "file_extension": ".py",
   "mimetype": "text/x-python",
   "name": "python",
   "nbconvert_exporter": "python",
   "pygments_lexer": "ipython3",
   "version": "3.7.1"
  }
 },
 "nbformat": 4,
 "nbformat_minor": 2
}
